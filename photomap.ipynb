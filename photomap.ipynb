{
 "cells": [
  {
   "cell_type": "code",
   "execution_count": 88,
   "metadata": {},
   "outputs": [],
   "source": [
    "import os;\n",
    "import time;\n",
    "from selenium import webdriver;\n",
    "from selenium.webdriver import ActionChains\n",
    "\n",
    "# concat images\n",
    "from PIL import Image;\n",
    "from svglib.svglib import svg2rlg\n",
    "from reportlab.graphics import renderPM\n",
    "\n",
    "import base64;\n",
    "\n",
    "dir = \"F:/PHOTOGRAPHIE/FINIES/Argentique/109135/\";\n",
    "dirsvg = \"svg/\";\n",
    "dircollage = \"collage/\";\n",
    "extensionphoto = \".JPG\";"
   ]
  },
  {
   "cell_type": "code",
   "execution_count": 89,
   "metadata": {},
   "outputs": [],
   "source": [
    "def saveSVG(name):\n",
    "    file = dir + name + extensionphoto;\n",
    "    driver = webdriver.Chrome();\n",
    "    ############# SVG\n",
    "    driver.get(\"http://www.geotests.net/couleurs/index.html?l=fr\");\n",
    "\n",
    "    chooseFile = driver.find_element_by_id(\"files\");\n",
    "    chooseFile.send_keys(file);\n",
    "\n",
    "    export = driver.find_element_by_id(\"svgSVG\");\n",
    "    ActionChains(driver).click(export).perform();\n",
    "\n",
    "    time.sleep(5); # Wait DL\n",
    "\n",
    "    png = driver.find_element_by_id(\"canvasImg\");\n",
    "\n",
    "    # save to a file\n",
    "    with open(\"E:/Downloads/download.svg\", 'rb') as f:\n",
    "        with open(dirsvg + name + \".svg\", 'wb') as g:\n",
    "            g.write(f.read());\n",
    "            \n",
    "    os.remove(\"E:/Downloads/download.svg\");\n",
    "    driver.quit()"
   ]
  },
  {
   "cell_type": "code",
   "execution_count": 92,
   "metadata": {},
   "outputs": [],
   "source": [
    "with os.scandir(dir) as entries:\n",
    "    for entry in entries:\n",
    "        saveSVG(entry.name[0:-4]);"
   ]
  },
  {
   "cell_type": "code",
   "execution_count": 93,
   "metadata": {},
   "outputs": [],
   "source": [
    "def get_concat_h(im1, im2):\n",
    "    dst = Image.new('RGB', (im1.width + im2.width, im1.height))\n",
    "    dst.paste(im1, (0, 0))\n",
    "    dst.paste(im2, (im1.width, int(abs(im1.height - im2.height) / 2)))\n",
    "    return dst\n",
    "\n",
    "def get_concat_v(im1, im2):\n",
    "    dst = Image.new('RGB', (im1.width, im1.height + im2.height))\n",
    "    dst.paste(im1, (0, 0))\n",
    "    dst.paste(im2, (0, im1.height))\n",
    "    return dst\n",
    "\n",
    "with os.scandir(dir) as entries:\n",
    "    for entry in entries:\n",
    "        name = entry.name[0:-4];\n",
    "        drawing = svg2rlg(dirsvg + name + \".svg\");\n",
    "        drawing.scale(5,5);\n",
    "        renderPM.drawToFile(drawing, name +\".png\", \"PNG\",360); # write map\n",
    "\n",
    "        im1 = Image.open(dir + name + extensionphoto);\n",
    "        im2 = Image.open(name + \".png\");\n",
    "\n",
    "        get_concat_h(im1, im2).save(dircollage + name + \".jpg\")\n",
    "        # get_concat_v(im1, im2).save(\"concat_v.jpg\")\n",
    "        \n",
    "        os.remove(name +\".png\");"
   ]
  }
 ],
 "metadata": {
  "kernelspec": {
   "display_name": "Python 3",
   "language": "python",
   "name": "python3"
  },
  "language_info": {
   "codemirror_mode": {
    "name": "ipython",
    "version": 3
   },
   "file_extension": ".py",
   "mimetype": "text/x-python",
   "name": "python",
   "nbconvert_exporter": "python",
   "pygments_lexer": "ipython3",
   "version": "3.7.6"
  }
 },
 "nbformat": 4,
 "nbformat_minor": 4
}
